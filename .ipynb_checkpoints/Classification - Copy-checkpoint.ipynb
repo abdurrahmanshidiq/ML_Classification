{
 "cells": [
  {
   "cell_type": "code",
   "execution_count": 1,
   "metadata": {},
   "outputs": [],
   "source": [
    "import numpy as np\n",
    "import pandas as pd\n",
    "import matplotlib.pyplot as plt\n",
    "import seaborn as sns"
   ]
  },
  {
   "cell_type": "code",
   "execution_count": 2,
   "metadata": {},
   "outputs": [
    {
     "data": {
      "text/html": [
       "<div>\n",
       "<style scoped>\n",
       "    .dataframe tbody tr th:only-of-type {\n",
       "        vertical-align: middle;\n",
       "    }\n",
       "\n",
       "    .dataframe tbody tr th {\n",
       "        vertical-align: top;\n",
       "    }\n",
       "\n",
       "    .dataframe thead th {\n",
       "        text-align: right;\n",
       "    }\n",
       "</style>\n",
       "<table border=\"1\" class=\"dataframe\">\n",
       "  <thead>\n",
       "    <tr style=\"text-align: right;\">\n",
       "      <th></th>\n",
       "      <th>weight</th>\n",
       "      <th>obesed</th>\n",
       "    </tr>\n",
       "  </thead>\n",
       "  <tbody>\n",
       "    <tr>\n",
       "      <td>0</td>\n",
       "      <td>55.000000</td>\n",
       "      <td>0.0</td>\n",
       "    </tr>\n",
       "    <tr>\n",
       "      <td>1</td>\n",
       "      <td>55.404040</td>\n",
       "      <td>0.0</td>\n",
       "    </tr>\n",
       "    <tr>\n",
       "      <td>2</td>\n",
       "      <td>55.808081</td>\n",
       "      <td>0.0</td>\n",
       "    </tr>\n",
       "    <tr>\n",
       "      <td>3</td>\n",
       "      <td>56.212121</td>\n",
       "      <td>0.0</td>\n",
       "    </tr>\n",
       "    <tr>\n",
       "      <td>4</td>\n",
       "      <td>56.616162</td>\n",
       "      <td>0.0</td>\n",
       "    </tr>\n",
       "    <tr>\n",
       "      <td>...</td>\n",
       "      <td>...</td>\n",
       "      <td>...</td>\n",
       "    </tr>\n",
       "    <tr>\n",
       "      <td>95</td>\n",
       "      <td>93.383838</td>\n",
       "      <td>1.0</td>\n",
       "    </tr>\n",
       "    <tr>\n",
       "      <td>96</td>\n",
       "      <td>93.787879</td>\n",
       "      <td>1.0</td>\n",
       "    </tr>\n",
       "    <tr>\n",
       "      <td>97</td>\n",
       "      <td>94.191919</td>\n",
       "      <td>1.0</td>\n",
       "    </tr>\n",
       "    <tr>\n",
       "      <td>98</td>\n",
       "      <td>94.595960</td>\n",
       "      <td>1.0</td>\n",
       "    </tr>\n",
       "    <tr>\n",
       "      <td>99</td>\n",
       "      <td>95.000000</td>\n",
       "      <td>1.0</td>\n",
       "    </tr>\n",
       "  </tbody>\n",
       "</table>\n",
       "<p>100 rows × 2 columns</p>\n",
       "</div>"
      ],
      "text/plain": [
       "       weight  obesed\n",
       "0   55.000000     0.0\n",
       "1   55.404040     0.0\n",
       "2   55.808081     0.0\n",
       "3   56.212121     0.0\n",
       "4   56.616162     0.0\n",
       "..        ...     ...\n",
       "95  93.383838     1.0\n",
       "96  93.787879     1.0\n",
       "97  94.191919     1.0\n",
       "98  94.595960     1.0\n",
       "99  95.000000     1.0\n",
       "\n",
       "[100 rows x 2 columns]"
      ]
     },
     "execution_count": 2,
     "metadata": {},
     "output_type": "execute_result"
    }
   ],
   "source": [
    "data = {\n",
    "    'weight': np.linspace(55,95,100),\n",
    "    'obesed': np.hstack((np.zeros(50),np.ones(50)))\n",
    "}\n",
    "\n",
    "df = pd.DataFrame(data)\n",
    "df"
   ]
  },
  {
   "cell_type": "code",
   "execution_count": 3,
   "metadata": {},
   "outputs": [
    {
     "data": {
      "text/plain": [
       "[<matplotlib.lines.Line2D at 0x283658b2888>]"
      ]
     },
     "execution_count": 3,
     "metadata": {},
     "output_type": "execute_result"
    },
    {
     "data": {
      "image/png": "[encoded data removed]",
      "text/plain": [
       "<Figure size 432x288 with 1 Axes>"
      ]
     },
     "metadata": {
      "needs_background": "light"
     },
     "output_type": "display_data"
    }
   ],
   "source": [
    "plt.plot(df['weight'],df['obesed'],'k.')"
   ]
  },
  {
   "cell_type": "code",
   "execution_count": 4,
   "metadata": {},
   "outputs": [
    {
     "data": {
      "text/plain": [
       "weight    74.79798\n",
       "obesed     0.00000\n",
       "Name: 49, dtype: float64"
      ]
     },
     "execution_count": 4,
     "metadata": {},
     "output_type": "execute_result"
    }
   ],
   "source": [
    "half = int(len(df)/2)\n",
    "df.iloc[half-1] #berarti thresholdnya sekitar 74.7 keatas"
   ]
  },
  {
   "cell_type": "code",
   "execution_count": 5,
   "metadata": {},
   "outputs": [],
   "source": [
    "copy = df.copy()\n",
    "copy2 = df.copy()"
   ]
  },
  {
   "cell_type": "code",
   "execution_count": 6,
   "metadata": {},
   "outputs": [],
   "source": [
    "from sklearn.linear_model import LinearRegression"
   ]
  },
  {
   "cell_type": "code",
   "execution_count": 7,
   "metadata": {},
   "outputs": [],
   "source": [
    "lr = LinearRegression()\n",
    "lr.fit(df[['weight']], df['obesed'])\n",
    "df['pred'] = lr.predict(df[['weight']])"
   ]
  },
  {
   "cell_type": "code",
   "execution_count": 8,
   "metadata": {},
   "outputs": [
    {
     "data": {
      "text/html": [
       "<div>\n",
       "<style scoped>\n",
       "    .dataframe tbody tr th:only-of-type {\n",
       "        vertical-align: middle;\n",
       "    }\n",
       "\n",
       "    .dataframe tbody tr th {\n",
       "        vertical-align: top;\n",
       "    }\n",
       "\n",
       "    .dataframe thead th {\n",
       "        text-align: right;\n",
       "    }\n",
       "</style>\n",
       "<table border=\"1\" class=\"dataframe\">\n",
       "  <thead>\n",
       "    <tr style=\"text-align: right;\">\n",
       "      <th></th>\n",
       "      <th>weight</th>\n",
       "      <th>obesed</th>\n",
       "      <th>pred</th>\n",
       "    </tr>\n",
       "  </thead>\n",
       "  <tbody>\n",
       "    <tr>\n",
       "      <td>0</td>\n",
       "      <td>55.000000</td>\n",
       "      <td>0.0</td>\n",
       "      <td>-0.242574</td>\n",
       "    </tr>\n",
       "    <tr>\n",
       "      <td>1</td>\n",
       "      <td>55.404040</td>\n",
       "      <td>0.0</td>\n",
       "      <td>-0.227573</td>\n",
       "    </tr>\n",
       "    <tr>\n",
       "      <td>2</td>\n",
       "      <td>55.808081</td>\n",
       "      <td>0.0</td>\n",
       "      <td>-0.212571</td>\n",
       "    </tr>\n",
       "    <tr>\n",
       "      <td>3</td>\n",
       "      <td>56.212121</td>\n",
       "      <td>0.0</td>\n",
       "      <td>-0.197570</td>\n",
       "    </tr>\n",
       "    <tr>\n",
       "      <td>4</td>\n",
       "      <td>56.616162</td>\n",
       "      <td>0.0</td>\n",
       "      <td>-0.182568</td>\n",
       "    </tr>\n",
       "    <tr>\n",
       "      <td>...</td>\n",
       "      <td>...</td>\n",
       "      <td>...</td>\n",
       "      <td>...</td>\n",
       "    </tr>\n",
       "    <tr>\n",
       "      <td>95</td>\n",
       "      <td>93.383838</td>\n",
       "      <td>1.0</td>\n",
       "      <td>1.182568</td>\n",
       "    </tr>\n",
       "    <tr>\n",
       "      <td>96</td>\n",
       "      <td>93.787879</td>\n",
       "      <td>1.0</td>\n",
       "      <td>1.197570</td>\n",
       "    </tr>\n",
       "    <tr>\n",
       "      <td>97</td>\n",
       "      <td>94.191919</td>\n",
       "      <td>1.0</td>\n",
       "      <td>1.212571</td>\n",
       "    </tr>\n",
       "    <tr>\n",
       "      <td>98</td>\n",
       "      <td>94.595960</td>\n",
       "      <td>1.0</td>\n",
       "      <td>1.227573</td>\n",
       "    </tr>\n",
       "    <tr>\n",
       "      <td>99</td>\n",
       "      <td>95.000000</td>\n",
       "      <td>1.0</td>\n",
       "      <td>1.242574</td>\n",
       "    </tr>\n",
       "  </tbody>\n",
       "</table>\n",
       "<p>100 rows × 3 columns</p>\n",
       "</div>"
      ],
      "text/plain": [
       "       weight  obesed      pred\n",
       "0   55.000000     0.0 -0.242574\n",
       "1   55.404040     0.0 -0.227573\n",
       "2   55.808081     0.0 -0.212571\n",
       "3   56.212121     0.0 -0.197570\n",
       "4   56.616162     0.0 -0.182568\n",
       "..        ...     ...       ...\n",
       "95  93.383838     1.0  1.182568\n",
       "96  93.787879     1.0  1.197570\n",
       "97  94.191919     1.0  1.212571\n",
       "98  94.595960     1.0  1.227573\n",
       "99  95.000000     1.0  1.242574\n",
       "\n",
       "[100 rows x 3 columns]"
      ]
     },
     "execution_count": 8,
     "metadata": {},
     "output_type": "execute_result"
    }
   ],
   "source": [
    "df"
   ]
  },
  {
   "cell_type": "code",
   "execution_count": 9,
   "metadata": {},
   "outputs": [
    {
     "name": "stdout",
     "output_type": "stream",
     "text": [
      "0.037128712871287134\n",
      "-2.284653465346535\n"
     ]
    }
   ],
   "source": [
    "print(lr.coef_[0])\n",
    "print(lr.intercept_)"
   ]
  },
  {
   "cell_type": "code",
   "execution_count": 10,
   "metadata": {},
   "outputs": [
    {
     "data": {
      "image/png": "[encoded data removed]",
      "text/plain": [
       "<Figure size 720x432 with 1 Axes>"
      ]
     },
     "metadata": {
      "needs_background": "light"
     },
     "output_type": "display_data"
    }
   ],
   "source": [
    "plt.figure(figsize=(10,6))\n",
    "\n",
    "plt.plot(df['weight'],df['obesed'],'k.')\n",
    "plt.plot(df['weight'],df['pred'])\n",
    "\n",
    "plt.axhline(0.5, color='red') #thershold\n",
    "plt.axvline(x=75, ymin=0, ymax=1, color='yellow') #thershold\n",
    "\n",
    "plt.show()"
   ]
  },
  {
   "cell_type": "code",
   "execution_count": 11,
   "metadata": {},
   "outputs": [
    {
     "data": {
      "text/html": [
       "<div>\n",
       "<style scoped>\n",
       "    .dataframe tbody tr th:only-of-type {\n",
       "        vertical-align: middle;\n",
       "    }\n",
       "\n",
       "    .dataframe tbody tr th {\n",
       "        vertical-align: top;\n",
       "    }\n",
       "\n",
       "    .dataframe thead th {\n",
       "        text-align: right;\n",
       "    }\n",
       "</style>\n",
       "<table border=\"1\" class=\"dataframe\">\n",
       "  <thead>\n",
       "    <tr style=\"text-align: right;\">\n",
       "      <th></th>\n",
       "      <th>weight</th>\n",
       "      <th>obesed</th>\n",
       "      <th>pred</th>\n",
       "      <th>obesed_pred</th>\n",
       "    </tr>\n",
       "  </thead>\n",
       "  <tbody>\n",
       "    <tr>\n",
       "      <td>0</td>\n",
       "      <td>55.000000</td>\n",
       "      <td>0.0</td>\n",
       "      <td>-0.242574</td>\n",
       "      <td>0</td>\n",
       "    </tr>\n",
       "    <tr>\n",
       "      <td>1</td>\n",
       "      <td>55.404040</td>\n",
       "      <td>0.0</td>\n",
       "      <td>-0.227573</td>\n",
       "      <td>0</td>\n",
       "    </tr>\n",
       "    <tr>\n",
       "      <td>2</td>\n",
       "      <td>55.808081</td>\n",
       "      <td>0.0</td>\n",
       "      <td>-0.212571</td>\n",
       "      <td>0</td>\n",
       "    </tr>\n",
       "    <tr>\n",
       "      <td>3</td>\n",
       "      <td>56.212121</td>\n",
       "      <td>0.0</td>\n",
       "      <td>-0.197570</td>\n",
       "      <td>0</td>\n",
       "    </tr>\n",
       "    <tr>\n",
       "      <td>4</td>\n",
       "      <td>56.616162</td>\n",
       "      <td>0.0</td>\n",
       "      <td>-0.182568</td>\n",
       "      <td>0</td>\n",
       "    </tr>\n",
       "    <tr>\n",
       "      <td>...</td>\n",
       "      <td>...</td>\n",
       "      <td>...</td>\n",
       "      <td>...</td>\n",
       "      <td>...</td>\n",
       "    </tr>\n",
       "    <tr>\n",
       "      <td>95</td>\n",
       "      <td>93.383838</td>\n",
       "      <td>1.0</td>\n",
       "      <td>1.182568</td>\n",
       "      <td>1</td>\n",
       "    </tr>\n",
       "    <tr>\n",
       "      <td>96</td>\n",
       "      <td>93.787879</td>\n",
       "      <td>1.0</td>\n",
       "      <td>1.197570</td>\n",
       "      <td>1</td>\n",
       "    </tr>\n",
       "    <tr>\n",
       "      <td>97</td>\n",
       "      <td>94.191919</td>\n",
       "      <td>1.0</td>\n",
       "      <td>1.212571</td>\n",
       "      <td>1</td>\n",
       "    </tr>\n",
       "    <tr>\n",
       "      <td>98</td>\n",
       "      <td>94.595960</td>\n",
       "      <td>1.0</td>\n",
       "      <td>1.227573</td>\n",
       "      <td>1</td>\n",
       "    </tr>\n",
       "    <tr>\n",
       "      <td>99</td>\n",
       "      <td>95.000000</td>\n",
       "      <td>1.0</td>\n",
       "      <td>1.242574</td>\n",
       "      <td>1</td>\n",
       "    </tr>\n",
       "  </tbody>\n",
       "</table>\n",
       "<p>100 rows × 4 columns</p>\n",
       "</div>"
      ],
      "text/plain": [
       "       weight  obesed      pred  obesed_pred\n",
       "0   55.000000     0.0 -0.242574            0\n",
       "1   55.404040     0.0 -0.227573            0\n",
       "2   55.808081     0.0 -0.212571            0\n",
       "3   56.212121     0.0 -0.197570            0\n",
       "4   56.616162     0.0 -0.182568            0\n",
       "..        ...     ...       ...          ...\n",
       "95  93.383838     1.0  1.182568            1\n",
       "96  93.787879     1.0  1.197570            1\n",
       "97  94.191919     1.0  1.212571            1\n",
       "98  94.595960     1.0  1.227573            1\n",
       "99  95.000000     1.0  1.242574            1\n",
       "\n",
       "[100 rows x 4 columns]"
      ]
     },
     "execution_count": 11,
     "metadata": {},
     "output_type": "execute_result"
    }
   ],
   "source": [
    "df['obesed_pred'] = df['pred'].apply(lambda x: 0 if x<0.5 else 1)\n",
    "#jika nilai pred = <0.5 akan nilainya dijadikan 0, dan jika > dari 0.5 dijadikan 1 \n",
    "df"
   ]
  },
  {
   "cell_type": "code",
   "execution_count": 12,
   "metadata": {},
   "outputs": [
    {
     "name": "stdout",
     "output_type": "stream",
     "text": [
      "weight         75.202020\n",
      "obesed          1.000000\n",
      "pred            0.507501\n",
      "obesed_pred     1.000000\n",
      "Name: 50, dtype: float64\n",
      "-------------------------\n",
      "weight         74.797980\n",
      "obesed          0.000000\n",
      "pred            0.492499\n",
      "obesed_pred     0.000000\n",
      "Name: 49, dtype: float64\n"
     ]
    }
   ],
   "source": [
    "#prediksi 'obesed' berdaraskan linear reg = 0.507 --> diatas 0.5 --> 'obesed_pred'=1 / obesitas (data>0.5) \n",
    "print(df.iloc[half]) \n",
    "print('-'*25)\n",
    "#prediksi 'obesed' berdaraskan linear reg = 0.49 --> dibawah 0.5 --> 'obesed_pred'=0 / Tidak obesitas (data<0.5)\n",
    "print(df.iloc[half-1]) "
   ]
  },
  {
   "cell_type": "code",
   "execution_count": 13,
   "metadata": {},
   "outputs": [],
   "source": [
    "new_row = pd.DataFrame({'weight':[159,160,154,143], 'obesed': [1,1,1,1]}) #nambahin data 4 rows\n",
    "copy = pd.concat([copy,new_row], axis=0, ignore_index=True)"
   ]
  },
  {
   "cell_type": "code",
   "execution_count": 14,
   "metadata": {},
   "outputs": [
    {
     "data": {
      "text/html": [
       "<div>\n",
       "<style scoped>\n",
       "    .dataframe tbody tr th:only-of-type {\n",
       "        vertical-align: middle;\n",
       "    }\n",
       "\n",
       "    .dataframe tbody tr th {\n",
       "        vertical-align: top;\n",
       "    }\n",
       "\n",
       "    .dataframe thead th {\n",
       "        text-align: right;\n",
       "    }\n",
       "</style>\n",
       "<table border=\"1\" class=\"dataframe\">\n",
       "  <thead>\n",
       "    <tr style=\"text-align: right;\">\n",
       "      <th></th>\n",
       "      <th>weight</th>\n",
       "      <th>obesed</th>\n",
       "    </tr>\n",
       "  </thead>\n",
       "  <tbody>\n",
       "    <tr>\n",
       "      <td>0</td>\n",
       "      <td>55.000000</td>\n",
       "      <td>0.0</td>\n",
       "    </tr>\n",
       "    <tr>\n",
       "      <td>1</td>\n",
       "      <td>55.404040</td>\n",
       "      <td>0.0</td>\n",
       "    </tr>\n",
       "    <tr>\n",
       "      <td>2</td>\n",
       "      <td>55.808081</td>\n",
       "      <td>0.0</td>\n",
       "    </tr>\n",
       "    <tr>\n",
       "      <td>3</td>\n",
       "      <td>56.212121</td>\n",
       "      <td>0.0</td>\n",
       "    </tr>\n",
       "    <tr>\n",
       "      <td>4</td>\n",
       "      <td>56.616162</td>\n",
       "      <td>0.0</td>\n",
       "    </tr>\n",
       "    <tr>\n",
       "      <td>...</td>\n",
       "      <td>...</td>\n",
       "      <td>...</td>\n",
       "    </tr>\n",
       "    <tr>\n",
       "      <td>99</td>\n",
       "      <td>95.000000</td>\n",
       "      <td>1.0</td>\n",
       "    </tr>\n",
       "    <tr>\n",
       "      <td>100</td>\n",
       "      <td>159.000000</td>\n",
       "      <td>1.0</td>\n",
       "    </tr>\n",
       "    <tr>\n",
       "      <td>101</td>\n",
       "      <td>160.000000</td>\n",
       "      <td>1.0</td>\n",
       "    </tr>\n",
       "    <tr>\n",
       "      <td>102</td>\n",
       "      <td>154.000000</td>\n",
       "      <td>1.0</td>\n",
       "    </tr>\n",
       "    <tr>\n",
       "      <td>103</td>\n",
       "      <td>143.000000</td>\n",
       "      <td>1.0</td>\n",
       "    </tr>\n",
       "  </tbody>\n",
       "</table>\n",
       "<p>104 rows × 2 columns</p>\n",
       "</div>"
      ],
      "text/plain": [
       "         weight  obesed\n",
       "0     55.000000     0.0\n",
       "1     55.404040     0.0\n",
       "2     55.808081     0.0\n",
       "3     56.212121     0.0\n",
       "4     56.616162     0.0\n",
       "..          ...     ...\n",
       "99    95.000000     1.0\n",
       "100  159.000000     1.0\n",
       "101  160.000000     1.0\n",
       "102  154.000000     1.0\n",
       "103  143.000000     1.0\n",
       "\n",
       "[104 rows x 2 columns]"
      ]
     },
     "execution_count": 14,
     "metadata": {},
     "output_type": "execute_result"
    }
   ],
   "source": [
    "copy"
   ]
  },
  {
   "cell_type": "code",
   "execution_count": 15,
   "metadata": {},
   "outputs": [
    {
     "data": {
      "text/html": [
       "<div>\n",
       "<style scoped>\n",
       "    .dataframe tbody tr th:only-of-type {\n",
       "        vertical-align: middle;\n",
       "    }\n",
       "\n",
       "    .dataframe tbody tr th {\n",
       "        vertical-align: top;\n",
       "    }\n",
       "\n",
       "    .dataframe thead th {\n",
       "        text-align: right;\n",
       "    }\n",
       "</style>\n",
       "<table border=\"1\" class=\"dataframe\">\n",
       "  <thead>\n",
       "    <tr style=\"text-align: right;\">\n",
       "      <th></th>\n",
       "      <th>weight</th>\n",
       "      <th>obesed</th>\n",
       "    </tr>\n",
       "  </thead>\n",
       "  <tbody>\n",
       "    <tr>\n",
       "      <td>0</td>\n",
       "      <td>55.000000</td>\n",
       "      <td>0.0</td>\n",
       "    </tr>\n",
       "    <tr>\n",
       "      <td>1</td>\n",
       "      <td>55.404040</td>\n",
       "      <td>0.0</td>\n",
       "    </tr>\n",
       "    <tr>\n",
       "      <td>2</td>\n",
       "      <td>55.808081</td>\n",
       "      <td>0.0</td>\n",
       "    </tr>\n",
       "    <tr>\n",
       "      <td>3</td>\n",
       "      <td>56.212121</td>\n",
       "      <td>0.0</td>\n",
       "    </tr>\n",
       "    <tr>\n",
       "      <td>4</td>\n",
       "      <td>56.616162</td>\n",
       "      <td>0.0</td>\n",
       "    </tr>\n",
       "    <tr>\n",
       "      <td>...</td>\n",
       "      <td>...</td>\n",
       "      <td>...</td>\n",
       "    </tr>\n",
       "    <tr>\n",
       "      <td>99</td>\n",
       "      <td>95.000000</td>\n",
       "      <td>1.0</td>\n",
       "    </tr>\n",
       "    <tr>\n",
       "      <td>100</td>\n",
       "      <td>159.000000</td>\n",
       "      <td>1.0</td>\n",
       "    </tr>\n",
       "    <tr>\n",
       "      <td>101</td>\n",
       "      <td>160.000000</td>\n",
       "      <td>1.0</td>\n",
       "    </tr>\n",
       "    <tr>\n",
       "      <td>102</td>\n",
       "      <td>154.000000</td>\n",
       "      <td>1.0</td>\n",
       "    </tr>\n",
       "    <tr>\n",
       "      <td>103</td>\n",
       "      <td>143.000000</td>\n",
       "      <td>1.0</td>\n",
       "    </tr>\n",
       "  </tbody>\n",
       "</table>\n",
       "<p>104 rows × 2 columns</p>\n",
       "</div>"
      ],
      "text/plain": [
       "         weight  obesed\n",
       "0     55.000000     0.0\n",
       "1     55.404040     0.0\n",
       "2     55.808081     0.0\n",
       "3     56.212121     0.0\n",
       "4     56.616162     0.0\n",
       "..          ...     ...\n",
       "99    95.000000     1.0\n",
       "100  159.000000     1.0\n",
       "101  160.000000     1.0\n",
       "102  154.000000     1.0\n",
       "103  143.000000     1.0\n",
       "\n",
       "[104 rows x 2 columns]"
      ]
     },
     "execution_count": 15,
     "metadata": {},
     "output_type": "execute_result"
    }
   ],
   "source": [
    "copy2 = copy.copy()\n",
    "copy2"
   ]
  },
  {
   "cell_type": "code",
   "execution_count": 16,
   "metadata": {},
   "outputs": [
    {
     "data": {
      "text/plain": [
       "LinearRegression(copy_X=True, fit_intercept=True, n_jobs=None, normalize=False)"
      ]
     },
     "execution_count": 16,
     "metadata": {},
     "output_type": "execute_result"
    }
   ],
   "source": [
    "lrb = LinearRegression()\n",
    "lrb.fit(copy[['weight']], copy['obesed'])"
   ]
  },
  {
   "cell_type": "code",
   "execution_count": 17,
   "metadata": {},
   "outputs": [
    {
     "data": {
      "text/html": [
       "<div>\n",
       "<style scoped>\n",
       "    .dataframe tbody tr th:only-of-type {\n",
       "        vertical-align: middle;\n",
       "    }\n",
       "\n",
       "    .dataframe tbody tr th {\n",
       "        vertical-align: top;\n",
       "    }\n",
       "\n",
       "    .dataframe thead th {\n",
       "        text-align: right;\n",
       "    }\n",
       "</style>\n",
       "<table border=\"1\" class=\"dataframe\">\n",
       "  <thead>\n",
       "    <tr style=\"text-align: right;\">\n",
       "      <th></th>\n",
       "      <th>weight</th>\n",
       "      <th>obesed</th>\n",
       "      <th>pred</th>\n",
       "    </tr>\n",
       "  </thead>\n",
       "  <tbody>\n",
       "    <tr>\n",
       "      <td>0</td>\n",
       "      <td>55.000000</td>\n",
       "      <td>0.0</td>\n",
       "      <td>0.118695</td>\n",
       "    </tr>\n",
       "    <tr>\n",
       "      <td>1</td>\n",
       "      <td>55.404040</td>\n",
       "      <td>0.0</td>\n",
       "      <td>0.125719</td>\n",
       "    </tr>\n",
       "    <tr>\n",
       "      <td>2</td>\n",
       "      <td>55.808081</td>\n",
       "      <td>0.0</td>\n",
       "      <td>0.132744</td>\n",
       "    </tr>\n",
       "    <tr>\n",
       "      <td>3</td>\n",
       "      <td>56.212121</td>\n",
       "      <td>0.0</td>\n",
       "      <td>0.139768</td>\n",
       "    </tr>\n",
       "    <tr>\n",
       "      <td>4</td>\n",
       "      <td>56.616162</td>\n",
       "      <td>0.0</td>\n",
       "      <td>0.146793</td>\n",
       "    </tr>\n",
       "    <tr>\n",
       "      <td>...</td>\n",
       "      <td>...</td>\n",
       "      <td>...</td>\n",
       "      <td>...</td>\n",
       "    </tr>\n",
       "    <tr>\n",
       "      <td>99</td>\n",
       "      <td>95.000000</td>\n",
       "      <td>1.0</td>\n",
       "      <td>0.814116</td>\n",
       "    </tr>\n",
       "    <tr>\n",
       "      <td>100</td>\n",
       "      <td>159.000000</td>\n",
       "      <td>1.0</td>\n",
       "      <td>1.926790</td>\n",
       "    </tr>\n",
       "    <tr>\n",
       "      <td>101</td>\n",
       "      <td>160.000000</td>\n",
       "      <td>1.0</td>\n",
       "      <td>1.944175</td>\n",
       "    </tr>\n",
       "    <tr>\n",
       "      <td>102</td>\n",
       "      <td>154.000000</td>\n",
       "      <td>1.0</td>\n",
       "      <td>1.839862</td>\n",
       "    </tr>\n",
       "    <tr>\n",
       "      <td>103</td>\n",
       "      <td>143.000000</td>\n",
       "      <td>1.0</td>\n",
       "      <td>1.648621</td>\n",
       "    </tr>\n",
       "  </tbody>\n",
       "</table>\n",
       "<p>104 rows × 3 columns</p>\n",
       "</div>"
      ],
      "text/plain": [
       "         weight  obesed      pred\n",
       "0     55.000000     0.0  0.118695\n",
       "1     55.404040     0.0  0.125719\n",
       "2     55.808081     0.0  0.132744\n",
       "3     56.212121     0.0  0.139768\n",
       "4     56.616162     0.0  0.146793\n",
       "..          ...     ...       ...\n",
       "99    95.000000     1.0  0.814116\n",
       "100  159.000000     1.0  1.926790\n",
       "101  160.000000     1.0  1.944175\n",
       "102  154.000000     1.0  1.839862\n",
       "103  143.000000     1.0  1.648621\n",
       "\n",
       "[104 rows x 3 columns]"
      ]
     },
     "execution_count": 17,
     "metadata": {},
     "output_type": "execute_result"
    }
   ],
   "source": [
    "copy['pred'] = lrb.predict(copy[['weight']])\n",
    "copy"
   ]
  },
  {
   "cell_type": "code",
   "execution_count": 18,
   "metadata": {},
   "outputs": [],
   "source": [
    "#membandingkan Linear Regressi lrb dengan lr"
   ]
  },
  {
   "cell_type": "code",
   "execution_count": 19,
   "metadata": {},
   "outputs": [
    {
     "data": {
      "text/plain": [
       "<matplotlib.lines.Line2D at 0x283675c0d48>"
      ]
     },
     "execution_count": 19,
     "metadata": {},
     "output_type": "execute_result"
    },
    {
     "data": {
      "image/png": "[encoded data removed]",
      "text/plain": [
       "<Figure size 1152x576 with 2 Axes>"
      ]
     },
     "metadata": {
      "needs_background": "light"
     },
     "output_type": "display_data"
    }
   ],
   "source": [
    "plt.figure(figsize=(16,8))\n",
    "\n",
    "plt.subplot(121)\n",
    "plt.plot(df['weight'], df['obesed'], 'k.')\n",
    "plt.plot(df['weight'], df['pred']) #linear regresi\n",
    "plt.axhline(0.5, color ='red')\n",
    "plt.axvline(x=75, ymin=0, ymax=1, color='yellow')\n",
    "\n",
    "plt.subplot(122)\n",
    "plt.plot(copy['weight'], copy['obesed'], 'k.')\n",
    "plt.plot(copy['weight'], copy['pred']) #linear regresi\n",
    "plt.axhline(0.5, color ='red')\n",
    "plt.axvline(x=75, ymin=0, ymax=1, color='yellow')\n"
   ]
  },
  {
   "cell_type": "code",
   "execution_count": 20,
   "metadata": {},
   "outputs": [
    {
     "data": {
      "text/html": [
       "<div>\n",
       "<style scoped>\n",
       "    .dataframe tbody tr th:only-of-type {\n",
       "        vertical-align: middle;\n",
       "    }\n",
       "\n",
       "    .dataframe tbody tr th {\n",
       "        vertical-align: top;\n",
       "    }\n",
       "\n",
       "    .dataframe thead th {\n",
       "        text-align: right;\n",
       "    }\n",
       "</style>\n",
       "<table border=\"1\" class=\"dataframe\">\n",
       "  <thead>\n",
       "    <tr style=\"text-align: right;\">\n",
       "      <th></th>\n",
       "      <th>weight</th>\n",
       "      <th>obesed</th>\n",
       "      <th>pred</th>\n",
       "      <th>obesed_pred</th>\n",
       "    </tr>\n",
       "  </thead>\n",
       "  <tbody>\n",
       "    <tr>\n",
       "      <td>0</td>\n",
       "      <td>55.000000</td>\n",
       "      <td>0.0</td>\n",
       "      <td>0.118695</td>\n",
       "      <td>0</td>\n",
       "    </tr>\n",
       "    <tr>\n",
       "      <td>1</td>\n",
       "      <td>55.404040</td>\n",
       "      <td>0.0</td>\n",
       "      <td>0.125719</td>\n",
       "      <td>0</td>\n",
       "    </tr>\n",
       "    <tr>\n",
       "      <td>2</td>\n",
       "      <td>55.808081</td>\n",
       "      <td>0.0</td>\n",
       "      <td>0.132744</td>\n",
       "      <td>0</td>\n",
       "    </tr>\n",
       "    <tr>\n",
       "      <td>3</td>\n",
       "      <td>56.212121</td>\n",
       "      <td>0.0</td>\n",
       "      <td>0.139768</td>\n",
       "      <td>0</td>\n",
       "    </tr>\n",
       "    <tr>\n",
       "      <td>4</td>\n",
       "      <td>56.616162</td>\n",
       "      <td>0.0</td>\n",
       "      <td>0.146793</td>\n",
       "      <td>0</td>\n",
       "    </tr>\n",
       "    <tr>\n",
       "      <td>...</td>\n",
       "      <td>...</td>\n",
       "      <td>...</td>\n",
       "      <td>...</td>\n",
       "      <td>...</td>\n",
       "    </tr>\n",
       "    <tr>\n",
       "      <td>99</td>\n",
       "      <td>95.000000</td>\n",
       "      <td>1.0</td>\n",
       "      <td>0.814116</td>\n",
       "      <td>1</td>\n",
       "    </tr>\n",
       "    <tr>\n",
       "      <td>100</td>\n",
       "      <td>159.000000</td>\n",
       "      <td>1.0</td>\n",
       "      <td>1.926790</td>\n",
       "      <td>1</td>\n",
       "    </tr>\n",
       "    <tr>\n",
       "      <td>101</td>\n",
       "      <td>160.000000</td>\n",
       "      <td>1.0</td>\n",
       "      <td>1.944175</td>\n",
       "      <td>1</td>\n",
       "    </tr>\n",
       "    <tr>\n",
       "      <td>102</td>\n",
       "      <td>154.000000</td>\n",
       "      <td>1.0</td>\n",
       "      <td>1.839862</td>\n",
       "      <td>1</td>\n",
       "    </tr>\n",
       "    <tr>\n",
       "      <td>103</td>\n",
       "      <td>143.000000</td>\n",
       "      <td>1.0</td>\n",
       "      <td>1.648621</td>\n",
       "      <td>1</td>\n",
       "    </tr>\n",
       "  </tbody>\n",
       "</table>\n",
       "<p>104 rows × 4 columns</p>\n",
       "</div>"
      ],
      "text/plain": [
       "         weight  obesed      pred  obesed_pred\n",
       "0     55.000000     0.0  0.118695            0\n",
       "1     55.404040     0.0  0.125719            0\n",
       "2     55.808081     0.0  0.132744            0\n",
       "3     56.212121     0.0  0.139768            0\n",
       "4     56.616162     0.0  0.146793            0\n",
       "..          ...     ...       ...          ...\n",
       "99    95.000000     1.0  0.814116            1\n",
       "100  159.000000     1.0  1.926790            1\n",
       "101  160.000000     1.0  1.944175            1\n",
       "102  154.000000     1.0  1.839862            1\n",
       "103  143.000000     1.0  1.648621            1\n",
       "\n",
       "[104 rows x 4 columns]"
      ]
     },
     "execution_count": 20,
     "metadata": {},
     "output_type": "execute_result"
    }
   ],
   "source": [
    "copy['obesed_pred'] = copy['pred'].apply(lambda x: 0 if x < 0.5 else 1)\n",
    "#jika nilai pred = <0.5 akan nilainya dijadikan 0, dan jika > dari 0.5 dijadikan 1 --> klasifikasi 1 = obesed 0 = No Obesed\n",
    "copy"
   ]
  },
  {
   "cell_type": "code",
   "execution_count": 21,
   "metadata": {},
   "outputs": [
    {
     "name": "stdout",
     "output_type": "stream",
     "text": [
      "weight         75.202020\n",
      "obesed          1.000000\n",
      "pred            0.507501\n",
      "obesed_pred     1.000000\n",
      "Name: 50, dtype: float64\n",
      "-------------------------\n",
      "weight         74.797980\n",
      "obesed          0.000000\n",
      "pred            0.492499\n",
      "obesed_pred     0.000000\n",
      "Name: 49, dtype: float64\n"
     ]
    }
   ],
   "source": [
    "# Pada dataset df\n",
    "print(df.iloc[half]) #setenga data teratas, 'obesed_pred' = 0 / No Obesed\n",
    "print('-'*25)\n",
    "print(df.iloc[half-1]) #setenga data terbawah, 'obesed_pred' = 1 / Obesitas"
   ]
  },
  {
   "cell_type": "code",
   "execution_count": 22,
   "metadata": {},
   "outputs": [
    {
     "name": "stdout",
     "output_type": "stream",
     "text": [
      "weight         75.202020\n",
      "obesed          1.000000\n",
      "pred            0.469918\n",
      "obesed_pred     0.000000\n",
      "Name: 50, dtype: float64\n"
     ]
    }
   ],
   "source": [
    "# Pada dataset copy\n",
    "print(copy.iloc[half])"
   ]
  },
  {
   "cell_type": "code",
   "execution_count": 23,
   "metadata": {},
   "outputs": [
    {
     "name": "stdout",
     "output_type": "stream",
     "text": [
      "weight         77.222222\n",
      "obesed          1.000000\n",
      "pred            0.505040\n",
      "obesed_pred     1.000000\n",
      "Name: 55, dtype: float64\n",
      "-------------------------\n",
      "weight         76.818182\n",
      "obesed          1.000000\n",
      "pred            0.498016\n",
      "obesed_pred     0.000000\n",
      "Name: 54, dtype: float64\n",
      "-------------------------\n",
      "weight         76.414141\n",
      "obesed          1.000000\n",
      "pred            0.490991\n",
      "obesed_pred     0.000000\n",
      "Name: 53, dtype: float64\n",
      "-------------------------\n",
      "weight         76.010101\n",
      "obesed          1.000000\n",
      "pred            0.483967\n",
      "obesed_pred     0.000000\n",
      "Name: 52, dtype: float64\n",
      "-------------------------\n",
      "weight         75.606061\n",
      "obesed          1.000000\n",
      "pred            0.476942\n",
      "obesed_pred     0.000000\n",
      "Name: 51, dtype: float64\n"
     ]
    }
   ],
   "source": [
    "#cari dimana thersholdnya\n",
    "print(copy.iloc[half+5]) # awalnya obesed = weight>75,20, setelah ditambah 4 rows data --> obesed = weight>77,22\n",
    "print('-'*25)\n",
    "print(copy.iloc[half+4])\n",
    "print('-'*25)\n",
    "print(copy.iloc[half+3])\n",
    "print('-'*25)\n",
    "print(copy.iloc[half+2])\n",
    "print('-'*25)\n",
    "print(copy.iloc[half+1])"
   ]
  },
  {
   "cell_type": "markdown",
   "metadata": {},
   "source": [
    "## Logistic Regression\n",
    "Sigmoid Function\n",
    "\n",
    "$\\displaystyle sig(t) \\hat{y} = \\frac{1}{1+e^{-(mx+c)}}$"
   ]
  },
  {
   "cell_type": "code",
   "execution_count": 24,
   "metadata": {},
   "outputs": [],
   "source": [
    "from sklearn.linear_model import LogisticRegression"
   ]
  },
  {
   "cell_type": "code",
   "execution_count": 39,
   "metadata": {},
   "outputs": [
    {
     "name": "stdout",
     "output_type": "stream",
     "text": [
      "b/m/slope [0.05941417]\n",
      "a/c/intercept -4.263469789533045\n"
     ]
    },
    {
     "name": "stderr",
     "output_type": "stream",
     "text": [
      "C:\\Users\\Admin\\Anaconda3\\lib\\site-packages\\sklearn\\linear_model\\logistic.py:432: FutureWarning: Default solver will be changed to 'lbfgs' in 0.22. Specify a solver to silence this warning.\n",
      "  FutureWarning)\n"
     ]
    }
   ],
   "source": [
    "#pake dataset copy2\n",
    "\n",
    "logreg = LogisticRegression()\n",
    "logreg.fit(copy2[['weight']], copy2['obesed'])\n",
    "print(\"b/m/slope\", logreg.coef_[0])\n",
    "print(\"a/c/intercept\", logreg.intercept_[0])"
   ]
  },
  {
   "cell_type": "code",
   "execution_count": 40,
   "metadata": {},
   "outputs": [
    {
     "data": {
      "text/plain": [
       "(0.05941416693581443, -4.263469789533045)"
      ]
     },
     "execution_count": 40,
     "metadata": {},
     "output_type": "execute_result"
    }
   ],
   "source": [
    "b = logreg.coef_[0][0]\n",
    "a = logreg.intercept_[0]\n",
    "b,a"
   ]
  },
  {
   "cell_type": "code",
   "execution_count": 35,
   "metadata": {},
   "outputs": [
    {
     "data": {
      "text/html": [
       "<div>\n",
       "<style scoped>\n",
       "    .dataframe tbody tr th:only-of-type {\n",
       "        vertical-align: middle;\n",
       "    }\n",
       "\n",
       "    .dataframe tbody tr th {\n",
       "        vertical-align: top;\n",
       "    }\n",
       "\n",
       "    .dataframe thead th {\n",
       "        text-align: right;\n",
       "    }\n",
       "</style>\n",
       "<table border=\"1\" class=\"dataframe\">\n",
       "  <thead>\n",
       "    <tr style=\"text-align: right;\">\n",
       "      <th></th>\n",
       "      <th>weight</th>\n",
       "      <th>obesed</th>\n",
       "      <th>pred</th>\n",
       "      <th>proba1</th>\n",
       "      <th>proba0</th>\n",
       "    </tr>\n",
       "  </thead>\n",
       "  <tbody>\n",
       "    <tr>\n",
       "      <td>0</td>\n",
       "      <td>55.000000</td>\n",
       "      <td>0.0</td>\n",
       "      <td>0.0</td>\n",
       "      <td>0.269790</td>\n",
       "      <td>0.730210</td>\n",
       "    </tr>\n",
       "    <tr>\n",
       "      <td>1</td>\n",
       "      <td>55.404040</td>\n",
       "      <td>0.0</td>\n",
       "      <td>0.0</td>\n",
       "      <td>0.274545</td>\n",
       "      <td>0.725455</td>\n",
       "    </tr>\n",
       "    <tr>\n",
       "      <td>2</td>\n",
       "      <td>55.808081</td>\n",
       "      <td>0.0</td>\n",
       "      <td>0.0</td>\n",
       "      <td>0.279352</td>\n",
       "      <td>0.720648</td>\n",
       "    </tr>\n",
       "    <tr>\n",
       "      <td>3</td>\n",
       "      <td>56.212121</td>\n",
       "      <td>0.0</td>\n",
       "      <td>0.0</td>\n",
       "      <td>0.284210</td>\n",
       "      <td>0.715790</td>\n",
       "    </tr>\n",
       "    <tr>\n",
       "      <td>4</td>\n",
       "      <td>56.616162</td>\n",
       "      <td>0.0</td>\n",
       "      <td>0.0</td>\n",
       "      <td>0.289119</td>\n",
       "      <td>0.710881</td>\n",
       "    </tr>\n",
       "    <tr>\n",
       "      <td>...</td>\n",
       "      <td>...</td>\n",
       "      <td>...</td>\n",
       "      <td>...</td>\n",
       "      <td>...</td>\n",
       "      <td>...</td>\n",
       "    </tr>\n",
       "    <tr>\n",
       "      <td>99</td>\n",
       "      <td>95.000000</td>\n",
       "      <td>1.0</td>\n",
       "      <td>1.0</td>\n",
       "      <td>0.799132</td>\n",
       "      <td>0.200868</td>\n",
       "    </tr>\n",
       "    <tr>\n",
       "      <td>100</td>\n",
       "      <td>159.000000</td>\n",
       "      <td>1.0</td>\n",
       "      <td>1.0</td>\n",
       "      <td>0.994422</td>\n",
       "      <td>0.005578</td>\n",
       "    </tr>\n",
       "    <tr>\n",
       "      <td>101</td>\n",
       "      <td>160.000000</td>\n",
       "      <td>1.0</td>\n",
       "      <td>1.0</td>\n",
       "      <td>0.994742</td>\n",
       "      <td>0.005258</td>\n",
       "    </tr>\n",
       "    <tr>\n",
       "      <td>102</td>\n",
       "      <td>154.000000</td>\n",
       "      <td>1.0</td>\n",
       "      <td>1.0</td>\n",
       "      <td>0.992507</td>\n",
       "      <td>0.007493</td>\n",
       "    </tr>\n",
       "    <tr>\n",
       "      <td>103</td>\n",
       "      <td>143.000000</td>\n",
       "      <td>1.0</td>\n",
       "      <td>1.0</td>\n",
       "      <td>0.985695</td>\n",
       "      <td>0.014305</td>\n",
       "    </tr>\n",
       "  </tbody>\n",
       "</table>\n",
       "<p>104 rows × 5 columns</p>\n",
       "</div>"
      ],
      "text/plain": [
       "         weight  obesed  pred    proba1    proba0\n",
       "0     55.000000     0.0   0.0  0.269790  0.730210\n",
       "1     55.404040     0.0   0.0  0.274545  0.725455\n",
       "2     55.808081     0.0   0.0  0.279352  0.720648\n",
       "3     56.212121     0.0   0.0  0.284210  0.715790\n",
       "4     56.616162     0.0   0.0  0.289119  0.710881\n",
       "..          ...     ...   ...       ...       ...\n",
       "99    95.000000     1.0   1.0  0.799132  0.200868\n",
       "100  159.000000     1.0   1.0  0.994422  0.005578\n",
       "101  160.000000     1.0   1.0  0.994742  0.005258\n",
       "102  154.000000     1.0   1.0  0.992507  0.007493\n",
       "103  143.000000     1.0   1.0  0.985695  0.014305\n",
       "\n",
       "[104 rows x 5 columns]"
      ]
     },
     "execution_count": 35,
     "metadata": {},
     "output_type": "execute_result"
    }
   ],
   "source": [
    "#sigmoid = menghitung probabilitas 1\n",
    "copy2['pred'] = logreg.predict(copy2[['weight']])\n",
    "copy2['proba1'] = 1 / (1+np.exp(-1*(b*copy2['weight'] + a)))\n",
    "copy2['proba0'] = 1 - copy2['proba1']\n",
    "copy2"
   ]
  },
  {
   "cell_type": "code",
   "execution_count": 36,
   "metadata": {},
   "outputs": [
    {
     "data": {
      "text/plain": [
       "weight    75.202020\n",
       "obesed     1.000000\n",
       "pred       1.000000\n",
       "proba1     0.550971\n",
       "proba0     0.449029\n",
       "Name: 50, dtype: float64"
      ]
     },
     "execution_count": 36,
     "metadata": {},
     "output_type": "execute_result"
    }
   ],
   "source": [
    "copy2.iloc[half] #menggunakan logistic regression"
   ]
  },
  {
   "cell_type": "code",
   "execution_count": 37,
   "metadata": {},
   "outputs": [
    {
     "data": {
      "text/plain": [
       "weight         75.202020\n",
       "obesed          1.000000\n",
       "pred            0.507501\n",
       "obesed_pred     1.000000\n",
       "Name: 50, dtype: float64"
      ]
     },
     "execution_count": 37,
     "metadata": {},
     "output_type": "execute_result"
    }
   ],
   "source": [
    "df.iloc[half]"
   ]
  },
  {
   "cell_type": "code",
   "execution_count": 32,
   "metadata": {},
   "outputs": [],
   "source": [
    "# proba 1 =0.05 --> cocok dengan obesed_pred = 1"
   ]
  },
  {
   "cell_type": "code",
   "execution_count": 38,
   "metadata": {},
   "outputs": [
    {
     "data": {
      "text/plain": [
       "[<matplotlib.lines.Line2D at 0x2836754b248>]"
      ]
     },
     "execution_count": 38,
     "metadata": {},
     "output_type": "execute_result"
    },
    {
     "data": {
      "image/png": "[encoded data removed]",
      "text/plain": [
       "<Figure size 1152x576 with 1 Axes>"
      ]
     },
     "metadata": {
      "needs_background": "light"
     },
     "output_type": "display_data"
    }
   ],
   "source": [
    "plt.figure(figsize=(16,8))\n",
    "plt.plot(copy2['weight'], copy2['obesed'], 'k.')\n",
    "plt.plot(copy2['weight'], copy2['pred'])\n",
    "plt.plot(copy2['weight'], copy2['proba1'], 'm-')\n",
    "plt.plot(copy2['weight'], copy2['proba0'], 'y-')"
   ]
  },
  {
   "cell_type": "code",
   "execution_count": 41,
   "metadata": {},
   "outputs": [
    {
     "data": {
      "text/plain": [
       "array([[0.73021046, 0.26978954],\n",
       "       [0.7254552 , 0.2745448 ],\n",
       "       [0.7206482 , 0.2793518 ],\n",
       "       [0.71579   , 0.28421   ],\n",
       "       [0.71088121, 0.28911879],\n",
       "       [0.70592247, 0.29407753],\n",
       "       [0.70091447, 0.29908553],\n",
       "       [0.69585792, 0.30414208],\n",
       "       [0.6907536 , 0.3092464 ],\n",
       "       [0.68560232, 0.31439768],\n",
       "       [0.68040494, 0.31959506],\n",
       "       [0.67516235, 0.32483765],\n",
       "       [0.66987548, 0.33012452],\n",
       "       [0.66454532, 0.33545468],\n",
       "       [0.65917288, 0.34082712],\n",
       "       [0.65375923, 0.34624077],\n",
       "       [0.64830547, 0.35169453],\n",
       "       [0.64281275, 0.35718725],\n",
       "       [0.63728223, 0.36271777],\n",
       "       [0.63171514, 0.36828486],\n",
       "       [0.62611274, 0.37388726],\n",
       "       [0.62047631, 0.37952369],\n",
       "       [0.61480719, 0.38519281],\n",
       "       [0.60910673, 0.39089327],\n",
       "       [0.60337634, 0.39662366],\n",
       "       [0.59761743, 0.40238257],\n",
       "       [0.59183148, 0.40816852],\n",
       "       [0.58601995, 0.41398005],\n",
       "       [0.58018438, 0.41981562],\n",
       "       [0.5743263 , 0.4256737 ],\n",
       "       [0.56844728, 0.43155272],\n",
       "       [0.56254891, 0.43745109],\n",
       "       [0.5566328 , 0.4433672 ],\n",
       "       [0.55070058, 0.44929942],\n",
       "       [0.5447539 , 0.4552461 ],\n",
       "       [0.53879444, 0.46120556],\n",
       "       [0.53282386, 0.46717614],\n",
       "       [0.52684387, 0.47315613],\n",
       "       [0.52085617, 0.47914383],\n",
       "       [0.51486246, 0.48513754],\n",
       "       [0.50886448, 0.49113552],\n",
       "       [0.50286395, 0.49713605],\n",
       "       [0.49686259, 0.50313741],\n",
       "       [0.49086214, 0.50913786],\n",
       "       [0.48486431, 0.51513569],\n",
       "       [0.47887085, 0.52112915],\n",
       "       [0.47288346, 0.52711654],\n",
       "       [0.46690386, 0.53309614],\n",
       "       [0.46093375, 0.53906625],\n",
       "       [0.45497483, 0.54502517],\n",
       "       [0.44902878, 0.55097122],\n",
       "       [0.44309726, 0.55690274],\n",
       "       [0.43718192, 0.56281808],\n",
       "       [0.4312844 , 0.5687156 ],\n",
       "       [0.4254063 , 0.5745937 ],\n",
       "       [0.41954921, 0.58045079],\n",
       "       [0.4137147 , 0.5862853 ],\n",
       "       [0.40790431, 0.59209569],\n",
       "       [0.40211955, 0.59788045],\n",
       "       [0.39636191, 0.60363809],\n",
       "       [0.39063285, 0.60936715],\n",
       "       [0.38493379, 0.61506621],\n",
       "       [0.37926613, 0.62073387],\n",
       "       [0.37363123, 0.62636877],\n",
       "       [0.3680304 , 0.6319696 ],\n",
       "       [0.36246496, 0.63753504],\n",
       "       [0.35693613, 0.64306387],\n",
       "       [0.35144516, 0.64855484],\n",
       "       [0.3459932 , 0.6540068 ],\n",
       "       [0.34058141, 0.65941859],\n",
       "       [0.33521088, 0.66478912],\n",
       "       [0.32988266, 0.67011734],\n",
       "       [0.32459779, 0.67540221],\n",
       "       [0.31935724, 0.68064276],\n",
       "       [0.31416194, 0.68583806],\n",
       "       [0.30901278, 0.69098722],\n",
       "       [0.30391062, 0.69608938],\n",
       "       [0.29885627, 0.70114373],\n",
       "       [0.29385049, 0.70614951],\n",
       "       [0.28889402, 0.71110598],\n",
       "       [0.28398752, 0.71601248],\n",
       "       [0.27913164, 0.72086836],\n",
       "       [0.27432698, 0.72567302],\n",
       "       [0.2695741 , 0.7304259 ],\n",
       "       [0.26487351, 0.73512649],\n",
       "       [0.26022568, 0.73977432],\n",
       "       [0.25563104, 0.74436896],\n",
       "       [0.25109   , 0.74891   ],\n",
       "       [0.2466029 , 0.7533971 ],\n",
       "       [0.24217005, 0.75782995],\n",
       "       [0.23779174, 0.76220826],\n",
       "       [0.23346821, 0.76653179],\n",
       "       [0.22919964, 0.77080036],\n",
       "       [0.22498621, 0.77501379],\n",
       "       [0.22082804, 0.77917196],\n",
       "       [0.21672524, 0.78327476],\n",
       "       [0.21267785, 0.78732215],\n",
       "       [0.20868592, 0.79131408],\n",
       "       [0.20474942, 0.79525058],\n",
       "       [0.20086834, 0.79913166],\n",
       "       [0.00557772, 0.99442228],\n",
       "       [0.00525766, 0.99474234],\n",
       "       [0.00749265, 0.99250735],\n",
       "       [0.01430474, 0.98569526]])"
      ]
     },
     "execution_count": 41,
     "metadata": {},
     "output_type": "execute_result"
    }
   ],
   "source": [
    "logreg.predict_proba(copy2[['weight']])"
   ]
  },
  {
   "cell_type": "code",
   "execution_count": 45,
   "metadata": {},
   "outputs": [],
   "source": [
    "import sklearn"
   ]
  },
  {
   "cell_type": "code",
   "execution_count": 46,
   "metadata": {},
   "outputs": [
    {
     "data": {
      "text/plain": [
       "'0.21.3'"
      ]
     },
     "execution_count": 46,
     "metadata": {},
     "output_type": "execute_result"
    }
   ],
   "source": [
    "sklearn.__version__"
   ]
  },
  {
   "cell_type": "code",
   "execution_count": null,
   "metadata": {},
   "outputs": [],
   "source": []
  },
  {
   "cell_type": "code",
   "execution_count": null,
   "metadata": {},
   "outputs": [],
   "source": []
  },
  {
   "cell_type": "code",
   "execution_count": null,
   "metadata": {},
   "outputs": [],
   "source": []
  },
  {
   "cell_type": "code",
   "execution_count": null,
   "metadata": {},
   "outputs": [],
   "source": []
  }
 ],
 "metadata": {
  "kernelspec": {
   "display_name": "Python 3",
   "language": "python",
   "name": "python3"
  },
  "language_info": {
   "codemirror_mode": {
    "name": "ipython",
    "version": 3
   },
   "file_extension": ".py",
   "mimetype": "text/x-python",
   "name": "python",
   "nbconvert_exporter": "python",
   "pygments_lexer": "ipython3",
   "version": "3.7.4"
  }
 },
 "nbformat": 4,
 "nbformat_minor": 2
}
